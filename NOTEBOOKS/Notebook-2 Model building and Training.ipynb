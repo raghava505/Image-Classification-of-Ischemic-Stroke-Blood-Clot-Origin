{
 "cells": [
  {
   "cell_type": "markdown",
   "id": "859a2116",
   "metadata": {
    "_cell_guid": "b1076dfc-b9ad-4769-8c92-a6c4dae69d19",
    "_uuid": "8f2839f25d086af736a60e9eeb907d3b93b6e0e5",
    "execution": {
     "iopub.execute_input": "2023-01-31T09:30:19.680857Z",
     "iopub.status.busy": "2023-01-31T09:30:19.679933Z",
     "iopub.status.idle": "2023-01-31T09:30:19.686897Z",
     "shell.execute_reply": "2023-01-31T09:30:19.685857Z",
     "shell.execute_reply.started": "2023-01-31T09:30:19.680804Z"
    },
    "papermill": {
     "duration": 0.006729,
     "end_time": "2023-02-09T15:20:17.873214",
     "exception": false,
     "start_time": "2023-02-09T15:20:17.866485",
     "status": "completed"
    },
    "tags": []
   },
   "source": [
    "# Import all the libraries"
   ]
  },
  {
   "cell_type": "code",
   "execution_count": 1,
   "id": "d6b830f7",
   "metadata": {
    "execution": {
     "iopub.execute_input": "2023-02-09T15:20:17.883838Z",
     "iopub.status.busy": "2023-02-09T15:20:17.883300Z",
     "iopub.status.idle": "2023-02-09T15:20:24.040720Z",
     "shell.execute_reply": "2023-02-09T15:20:24.039745Z"
    },
    "papermill": {
     "duration": 6.166139,
     "end_time": "2023-02-09T15:20:24.043573",
     "exception": false,
     "start_time": "2023-02-09T15:20:17.877434",
     "status": "completed"
    },
    "tags": []
   },
   "outputs": [],
   "source": [
    "import numpy as np\n",
    "import pandas as pd\n",
    "from PIL import Image\n",
    "import tensorflow as tf\n",
    "from sklearn.model_selection import train_test_split\n",
    "import cv2\n",
    "import gc\n",
    "import os\n",
    "import tensorflow as tf\n",
    "from openslide import open_slide\n",
    "import keras\n",
    "from openslide.deepzoom import DeepZoomGenerator\n",
    "import matplotlib.pyplot as plt\n",
    "from tensorflow import keras\n",
    "from tensorflow.keras import layers\n",
    "from tensorflow.keras import applications\n"
   ]
  },
  {
   "cell_type": "code",
   "execution_count": 2,
   "id": "ae0da63c",
   "metadata": {
    "execution": {
     "iopub.execute_input": "2023-02-09T15:20:24.054006Z",
     "iopub.status.busy": "2023-02-09T15:20:24.053438Z",
     "iopub.status.idle": "2023-02-09T15:20:24.058937Z",
     "shell.execute_reply": "2023-02-09T15:20:24.057936Z"
    },
    "papermill": {
     "duration": 0.012916,
     "end_time": "2023-02-09T15:20:24.061032",
     "exception": false,
     "start_time": "2023-02-09T15:20:24.048116",
     "status": "completed"
    },
    "tags": []
   },
   "outputs": [],
   "source": [
    "inp_size=512\n",
    "\n",
    "eff_res_stacked = '/kaggle/input/final-dataset/final_effb0_res152_stacked.h5'\n",
    "eff_vgg_stacked='/kaggle/input/final-dataset/final_effb0_vgg19_stacked.h5'\n",
    "vgg_res_stacked='/kaggle/input/final-dataset/final_res152_vgg19_stacked.h5'\n",
    "vgg='/kaggle/input/final-dataset/final_vgg19.h5'\n",
    "all_three_stacked='/kaggle/input/final-dataset/final_effb0_res151_vgg19_stacked.h5'\n",
    "res='/kaggle/input/final-dataset/final_res152.h5'\n",
    "eff='/kaggle/input/final-dataset/final_effb0.h5'"
   ]
  },
  {
   "cell_type": "markdown",
   "id": "b4bbfe39",
   "metadata": {
    "papermill": {
     "duration": 0.00397,
     "end_time": "2023-02-09T15:20:24.069011",
     "exception": false,
     "start_time": "2023-02-09T15:20:24.065041",
     "status": "completed"
    },
    "tags": []
   },
   "source": [
    "# Hyper Parameters to be Tuned"
   ]
  },
  {
   "cell_type": "code",
   "execution_count": 3,
   "id": "75313849",
   "metadata": {
    "execution": {
     "iopub.execute_input": "2023-02-09T15:20:24.078764Z",
     "iopub.status.busy": "2023-02-09T15:20:24.077869Z",
     "iopub.status.idle": "2023-02-09T15:20:24.089600Z",
     "shell.execute_reply": "2023-02-09T15:20:24.088771Z"
    },
    "papermill": {
     "duration": 0.018447,
     "end_time": "2023-02-09T15:20:24.091500",
     "exception": false,
     "start_time": "2023-02-09T15:20:24.073053",
     "status": "completed"
    },
    "tags": []
   },
   "outputs": [],
   "source": [
    "models=[]\n",
    "model_list = [all_three_stacked]\n",
    "epochs=40\n",
    "batch_size=32\n",
    "learning_rate = 1e-3\n",
    "optimizer = tf.keras.optimizers.Adam(learning_rate=learning_rate)  #adam or sgd\n",
    "\n"
   ]
  },
  {
   "cell_type": "markdown",
   "id": "7a9d67da",
   "metadata": {
    "papermill": {
     "duration": 0.003806,
     "end_time": "2023-02-09T15:20:24.099362",
     "exception": false,
     "start_time": "2023-02-09T15:20:24.095556",
     "status": "completed"
    },
    "tags": []
   },
   "source": [
    "# Fixed Parameters and paths"
   ]
  },
  {
   "cell_type": "code",
   "execution_count": 4,
   "id": "67cd8be2",
   "metadata": {
    "execution": {
     "iopub.execute_input": "2023-02-09T15:20:24.109005Z",
     "iopub.status.busy": "2023-02-09T15:20:24.108276Z",
     "iopub.status.idle": "2023-02-09T15:20:24.114891Z",
     "shell.execute_reply": "2023-02-09T15:20:24.114036Z"
    },
    "papermill": {
     "duration": 0.013481,
     "end_time": "2023-02-09T15:20:24.116911",
     "exception": false,
     "start_time": "2023-02-09T15:20:24.103430",
     "status": "completed"
    },
    "tags": []
   },
   "outputs": [],
   "source": [
    "color_normalized = 'yes'\n",
    "if color_normalized == 'yes':\n",
    "    dataset_directory='/kaggle/input/mayo-512720-dataset/DATASET/norm'\n",
    "else:\n",
    "    dataset_directory='/kaggle/input/mayo-512720-dataset/DATASET/original'\n",
    "\n",
    "#----------------------\n",
    "classMode = 'categorical'\n",
    "loss = 'categorical_crossentropy'\n",
    "val_split = 0\n",
    "Num_tiles_to_consider_for_prediction = 3\n",
    "validation_steps= 10\n",
    "steps_per_epoch = 10\n",
    "val_batch_size=16\n",
    "\n",
    "train_csv='/kaggle/input/mayo-clinic-strip-ai/train.csv'\n",
    "test_csv = '/kaggle/input/mayo-clinic-strip-ai/test.csv'\n",
    "sample_sub_csv='/kaggle/input/mayo-clinic-strip-ai/sample_submission.csv'\n",
    "\n",
    "train_imgs_dir = '/kaggle/input/mayo-clinic-strip-ai/train'\n",
    "test_imgs_dir='/kaggle/input/mayo-clinic-strip-ai/test'"
   ]
  },
  {
   "cell_type": "markdown",
   "id": "d0106e7e",
   "metadata": {
    "execution": {
     "iopub.execute_input": "2023-01-31T12:01:09.514398Z",
     "iopub.status.busy": "2023-01-31T12:01:09.513945Z",
     "iopub.status.idle": "2023-01-31T12:01:09.520352Z",
     "shell.execute_reply": "2023-01-31T12:01:09.518836Z",
     "shell.execute_reply.started": "2023-01-31T12:01:09.514366Z"
    },
    "papermill": {
     "duration": 0.00391,
     "end_time": "2023-02-09T15:20:24.124825",
     "exception": false,
     "start_time": "2023-02-09T15:20:24.120915",
     "status": "completed"
    },
    "tags": []
   },
   "source": [
    "# Load and compile the models"
   ]
  },
  {
   "cell_type": "code",
   "execution_count": 5,
   "id": "2caf3b86",
   "metadata": {
    "execution": {
     "iopub.execute_input": "2023-02-09T15:20:24.133847Z",
     "iopub.status.busy": "2023-02-09T15:20:24.133588Z",
     "iopub.status.idle": "2023-02-09T15:20:37.898065Z",
     "shell.execute_reply": "2023-02-09T15:20:37.897110Z"
    },
    "papermill": {
     "duration": 13.771975,
     "end_time": "2023-02-09T15:20:37.900839",
     "exception": false,
     "start_time": "2023-02-09T15:20:24.128864",
     "status": "completed"
    },
    "tags": []
   },
   "outputs": [
    {
     "name": "stderr",
     "output_type": "stream",
     "text": [
      "2023-02-09 15:20:24.433162: I tensorflow/stream_executor/cuda/cuda_gpu_executor.cc:937] successful NUMA node read from SysFS had negative value (-1), but there must be at least one NUMA node, so returning NUMA node zero\n",
      "2023-02-09 15:20:24.544216: I tensorflow/stream_executor/cuda/cuda_gpu_executor.cc:937] successful NUMA node read from SysFS had negative value (-1), but there must be at least one NUMA node, so returning NUMA node zero\n",
      "2023-02-09 15:20:24.545028: I tensorflow/stream_executor/cuda/cuda_gpu_executor.cc:937] successful NUMA node read from SysFS had negative value (-1), but there must be at least one NUMA node, so returning NUMA node zero\n",
      "2023-02-09 15:20:24.546366: I tensorflow/core/platform/cpu_feature_guard.cc:142] This TensorFlow binary is optimized with oneAPI Deep Neural Network Library (oneDNN) to use the following CPU instructions in performance-critical operations:  AVX2 AVX512F FMA\n",
      "To enable them in other operations, rebuild TensorFlow with the appropriate compiler flags.\n",
      "2023-02-09 15:20:24.546706: I tensorflow/stream_executor/cuda/cuda_gpu_executor.cc:937] successful NUMA node read from SysFS had negative value (-1), but there must be at least one NUMA node, so returning NUMA node zero\n",
      "2023-02-09 15:20:24.547406: I tensorflow/stream_executor/cuda/cuda_gpu_executor.cc:937] successful NUMA node read from SysFS had negative value (-1), but there must be at least one NUMA node, so returning NUMA node zero\n",
      "2023-02-09 15:20:24.548039: I tensorflow/stream_executor/cuda/cuda_gpu_executor.cc:937] successful NUMA node read from SysFS had negative value (-1), but there must be at least one NUMA node, so returning NUMA node zero\n",
      "2023-02-09 15:20:26.884611: I tensorflow/stream_executor/cuda/cuda_gpu_executor.cc:937] successful NUMA node read from SysFS had negative value (-1), but there must be at least one NUMA node, so returning NUMA node zero\n",
      "2023-02-09 15:20:26.885520: I tensorflow/stream_executor/cuda/cuda_gpu_executor.cc:937] successful NUMA node read from SysFS had negative value (-1), but there must be at least one NUMA node, so returning NUMA node zero\n",
      "2023-02-09 15:20:26.886274: I tensorflow/stream_executor/cuda/cuda_gpu_executor.cc:937] successful NUMA node read from SysFS had negative value (-1), but there must be at least one NUMA node, so returning NUMA node zero\n",
      "2023-02-09 15:20:26.886864: I tensorflow/core/common_runtime/gpu/gpu_device.cc:1510] Created device /job:localhost/replica:0/task:0/device:GPU:0 with 15401 MB memory:  -> device: 0, name: Tesla P100-PCIE-16GB, pci bus id: 0000:00:04.0, compute capability: 6.0\n"
     ]
    }
   ],
   "source": [
    "for i in model_list:\n",
    "    models.append(keras.models.load_model(i))"
   ]
  },
  {
   "cell_type": "code",
   "execution_count": 6,
   "id": "1ab4a89a",
   "metadata": {
    "execution": {
     "iopub.execute_input": "2023-02-09T15:20:37.911187Z",
     "iopub.status.busy": "2023-02-09T15:20:37.910862Z",
     "iopub.status.idle": "2023-02-09T15:20:37.931879Z",
     "shell.execute_reply": "2023-02-09T15:20:37.931005Z"
    },
    "papermill": {
     "duration": 0.028533,
     "end_time": "2023-02-09T15:20:37.933969",
     "exception": false,
     "start_time": "2023-02-09T15:20:37.905436",
     "status": "completed"
    },
    "tags": []
   },
   "outputs": [],
   "source": [
    "for i in models:\n",
    "    i.compile(\n",
    "        optimizer=optimizer,\n",
    "        loss=loss,\n",
    "        metrics=['accuracy'])"
   ]
  },
  {
   "cell_type": "code",
   "execution_count": 7,
   "id": "8090e9b6",
   "metadata": {
    "execution": {
     "iopub.execute_input": "2023-02-09T15:20:37.943841Z",
     "iopub.status.busy": "2023-02-09T15:20:37.943566Z",
     "iopub.status.idle": "2023-02-09T15:20:37.952228Z",
     "shell.execute_reply": "2023-02-09T15:20:37.951231Z"
    },
    "papermill": {
     "duration": 0.016315,
     "end_time": "2023-02-09T15:20:37.954578",
     "exception": false,
     "start_time": "2023-02-09T15:20:37.938263",
     "status": "completed"
    },
    "tags": []
   },
   "outputs": [
    {
     "data": {
      "text/plain": [
       "[<keras.engine.functional.Functional at 0x7fd0fcead290>]"
      ]
     },
     "execution_count": 7,
     "metadata": {},
     "output_type": "execute_result"
    }
   ],
   "source": [
    "models"
   ]
  },
  {
   "cell_type": "code",
   "execution_count": 8,
   "id": "9607e39d",
   "metadata": {
    "execution": {
     "iopub.execute_input": "2023-02-09T15:20:37.964630Z",
     "iopub.status.busy": "2023-02-09T15:20:37.964370Z",
     "iopub.status.idle": "2023-02-09T15:20:42.421743Z",
     "shell.execute_reply": "2023-02-09T15:20:42.420131Z"
    },
    "papermill": {
     "duration": 4.465419,
     "end_time": "2023-02-09T15:20:42.424547",
     "exception": false,
     "start_time": "2023-02-09T15:20:37.959128",
     "status": "completed"
    },
    "tags": []
   },
   "outputs": [
    {
     "name": "stdout",
     "output_type": "stream",
     "text": [
      "/kaggle/input/mayo-512720-dataset/DATASET/norm\n",
      "Found 4871 images belonging to 2 classes.\n",
      "Found 0 images belonging to 2 classes.\n",
      "{'ce': 0, 'laa': 1}\n"
     ]
    }
   ],
   "source": [
    "from tensorflow.keras.preprocessing.image import ImageDataGenerator\n",
    "\n",
    "datagen = ImageDataGenerator(\n",
    "    rescale=1./255,\n",
    "    rotation_range=45, \n",
    "    validation_split=val_split,\n",
    "    width_shift_range=0.3,\n",
    "    height_shift_range=0.3,\n",
    "    brightness_range=[0.5,2.0],\n",
    "    zoom_range = [0.5,2.0],\n",
    "    horizontal_flip=True,\n",
    "    vertical_flip=True\n",
    ")\n",
    "\n",
    "print(dataset_directory)\n",
    "train_generator = datagen.flow_from_directory(\n",
    "    dataset_directory,\n",
    "    target_size=(inp_size, inp_size),\n",
    "    batch_size=batch_size,\n",
    "    shuffle=True,\n",
    "    class_mode=classMode,\n",
    "    subset='training',\n",
    ")\n",
    "\n",
    "validation_generator = datagen.flow_from_directory(\n",
    "    dataset_directory,\n",
    "    target_size=(inp_size, inp_size),\n",
    "    batch_size=val_batch_size,\n",
    "    shuffle=True,\n",
    "    class_mode=classMode,\n",
    "    subset='validation',\n",
    ")\n",
    "\n",
    "class_indices = train_generator.class_indices\n",
    "print(class_indices)"
   ]
  },
  {
   "cell_type": "code",
   "execution_count": 9,
   "id": "defa8c25",
   "metadata": {
    "execution": {
     "iopub.execute_input": "2023-02-09T15:20:42.435534Z",
     "iopub.status.busy": "2023-02-09T15:20:42.435240Z",
     "iopub.status.idle": "2023-02-09T15:46:10.075284Z",
     "shell.execute_reply": "2023-02-09T15:46:10.074316Z"
    },
    "papermill": {
     "duration": 1527.648167,
     "end_time": "2023-02-09T15:46:10.077863",
     "exception": false,
     "start_time": "2023-02-09T15:20:42.429696",
     "status": "completed"
    },
    "tags": []
   },
   "outputs": [
    {
     "name": "stderr",
     "output_type": "stream",
     "text": [
      "2023-02-09 15:20:45.699058: I tensorflow/compiler/mlir/mlir_graph_optimization_pass.cc:185] None of the MLIR Optimization Passes are enabled (registered 2)\n"
     ]
    },
    {
     "name": "stdout",
     "output_type": "stream",
     "text": [
      "Epoch 1/40\n"
     ]
    },
    {
     "name": "stderr",
     "output_type": "stream",
     "text": [
      "2023-02-09 15:21:02.852414: I tensorflow/stream_executor/cuda/cuda_dnn.cc:369] Loaded cuDNN version 8005\n"
     ]
    },
    {
     "name": "stdout",
     "output_type": "stream",
     "text": [
      "10/10 [==============================] - 62s 3s/step - loss: 0.9759 - accuracy: 0.5219\n",
      "Epoch 2/40\n",
      "10/10 [==============================] - 35s 3s/step - loss: 1.0368 - accuracy: 0.5500\n",
      "Epoch 3/40\n",
      "10/10 [==============================] - 34s 3s/step - loss: 0.9221 - accuracy: 0.5322\n",
      "Epoch 4/40\n",
      "10/10 [==============================] - 34s 3s/step - loss: 1.0193 - accuracy: 0.5063\n",
      "Epoch 5/40\n",
      "10/10 [==============================] - 34s 3s/step - loss: 0.9826 - accuracy: 0.5094\n",
      "Epoch 6/40\n",
      "10/10 [==============================] - 33s 3s/step - loss: 0.9033 - accuracy: 0.5063\n",
      "Epoch 7/40\n",
      "10/10 [==============================] - 33s 3s/step - loss: 0.8305 - accuracy: 0.5469\n",
      "Epoch 8/40\n",
      "10/10 [==============================] - 33s 3s/step - loss: 0.7911 - accuracy: 0.5437\n",
      "Epoch 9/40\n",
      "10/10 [==============================] - 30s 3s/step - loss: 0.8257 - accuracy: 0.5559\n",
      "Epoch 10/40\n",
      "10/10 [==============================] - 31s 3s/step - loss: 0.7460 - accuracy: 0.5356\n",
      "Epoch 11/40\n",
      "10/10 [==============================] - 32s 3s/step - loss: 0.7944 - accuracy: 0.5281\n",
      "Epoch 12/40\n",
      "10/10 [==============================] - 32s 3s/step - loss: 0.7241 - accuracy: 0.5594\n",
      "Epoch 13/40\n",
      "10/10 [==============================] - 34s 3s/step - loss: 0.7171 - accuracy: 0.5656\n",
      "Epoch 14/40\n",
      "10/10 [==============================] - 32s 3s/step - loss: 0.7366 - accuracy: 0.5312\n",
      "Epoch 15/40\n",
      "10/10 [==============================] - 32s 3s/step - loss: 0.7310 - accuracy: 0.5531\n",
      "Epoch 16/40\n",
      "10/10 [==============================] - 31s 3s/step - loss: 0.7008 - accuracy: 0.5375\n",
      "Epoch 17/40\n",
      "10/10 [==============================] - 31s 3s/step - loss: 0.7466 - accuracy: 0.5188\n",
      "Epoch 18/40\n",
      "10/10 [==============================] - 31s 3s/step - loss: 0.7167 - accuracy: 0.5250\n",
      "Epoch 19/40\n",
      "10/10 [==============================] - 31s 3s/step - loss: 0.6928 - accuracy: 0.5219\n",
      "Epoch 20/40\n",
      "10/10 [==============================] - 31s 3s/step - loss: 0.6770 - accuracy: 0.5625\n",
      "Epoch 21/40\n",
      "10/10 [==============================] - 31s 3s/step - loss: 0.6825 - accuracy: 0.5906\n",
      "Epoch 22/40\n",
      "10/10 [==============================] - 31s 3s/step - loss: 0.7093 - accuracy: 0.5594\n",
      "Epoch 23/40\n",
      "10/10 [==============================] - 31s 3s/step - loss: 0.6993 - accuracy: 0.5437\n",
      "Epoch 24/40\n",
      "10/10 [==============================] - 30s 3s/step - loss: 0.7059 - accuracy: 0.5219\n",
      "Epoch 25/40\n",
      "10/10 [==============================] - 31s 3s/step - loss: 0.6708 - accuracy: 0.5938\n",
      "Epoch 26/40\n",
      "10/10 [==============================] - 31s 3s/step - loss: 0.7098 - accuracy: 0.5250\n",
      "Epoch 27/40\n",
      "10/10 [==============================] - 31s 3s/step - loss: 0.7003 - accuracy: 0.5406\n",
      "Epoch 28/40\n",
      "10/10 [==============================] - 31s 3s/step - loss: 0.6911 - accuracy: 0.5625\n",
      "Epoch 29/40\n",
      "10/10 [==============================] - 31s 3s/step - loss: 0.6986 - accuracy: 0.5594\n",
      "Epoch 30/40\n",
      "10/10 [==============================] - 30s 3s/step - loss: 0.6876 - accuracy: 0.5594\n",
      "Epoch 31/40\n",
      "10/10 [==============================] - 30s 3s/step - loss: 0.6901 - accuracy: 0.5406\n",
      "Epoch 32/40\n",
      "10/10 [==============================] - 30s 3s/step - loss: 0.7022 - accuracy: 0.5156\n",
      "Epoch 33/40\n",
      "10/10 [==============================] - 30s 3s/step - loss: 0.6940 - accuracy: 0.5219\n",
      "Epoch 34/40\n",
      "10/10 [==============================] - 30s 3s/step - loss: 0.6830 - accuracy: 0.5906\n",
      "Epoch 35/40\n",
      "10/10 [==============================] - 30s 3s/step - loss: 0.6845 - accuracy: 0.5469\n",
      "Epoch 36/40\n",
      "10/10 [==============================] - 30s 3s/step - loss: 0.6846 - accuracy: 0.5500\n",
      "Epoch 37/40\n",
      "10/10 [==============================] - 31s 3s/step - loss: 0.7010 - accuracy: 0.5312\n",
      "Epoch 38/40\n",
      "10/10 [==============================] - 30s 3s/step - loss: 0.6893 - accuracy: 0.5625\n",
      "Epoch 39/40\n",
      "10/10 [==============================] - 30s 3s/step - loss: 0.6959 - accuracy: 0.5375\n",
      "Epoch 40/40\n",
      "10/10 [==============================] - 30s 3s/step - loss: 0.6849 - accuracy: 0.5562\n"
     ]
    }
   ],
   "source": [
    "for i in models:\n",
    "    i.fit(\n",
    "        train_generator,\n",
    "        steps_per_epoch=steps_per_epoch,\n",
    "        validation_steps=validation_steps,\n",
    "        epochs=epochs,\n",
    "#         validation_data=validation_generator,\n",
    "    )    "
   ]
  },
  {
   "cell_type": "markdown",
   "id": "dba29b30",
   "metadata": {
    "execution": {
     "iopub.execute_input": "2023-01-29T18:16:04.829525Z",
     "iopub.status.busy": "2023-01-29T18:16:04.829109Z",
     "iopub.status.idle": "2023-01-29T18:16:05.01789Z",
     "shell.execute_reply": "2023-01-29T18:16:05.016405Z",
     "shell.execute_reply.started": "2023-01-29T18:16:04.829491Z"
    },
    "papermill": {
     "duration": 0.027732,
     "end_time": "2023-02-09T15:46:10.135153",
     "exception": false,
     "start_time": "2023-02-09T15:46:10.107421",
     "status": "completed"
    },
    "tags": []
   },
   "source": [
    "# model testing"
   ]
  },
  {
   "cell_type": "code",
   "execution_count": 10,
   "id": "f3ce613d",
   "metadata": {
    "execution": {
     "iopub.execute_input": "2023-02-09T15:46:10.193065Z",
     "iopub.status.busy": "2023-02-09T15:46:10.192744Z",
     "iopub.status.idle": "2023-02-09T15:46:10.219724Z",
     "shell.execute_reply": "2023-02-09T15:46:10.218735Z"
    },
    "papermill": {
     "duration": 0.058727,
     "end_time": "2023-02-09T15:46:10.221849",
     "exception": false,
     "start_time": "2023-02-09T15:46:10.163122",
     "status": "completed"
    },
    "tags": []
   },
   "outputs": [
    {
     "data": {
      "text/html": [
       "<div>\n",
       "<style scoped>\n",
       "    .dataframe tbody tr th:only-of-type {\n",
       "        vertical-align: middle;\n",
       "    }\n",
       "\n",
       "    .dataframe tbody tr th {\n",
       "        vertical-align: top;\n",
       "    }\n",
       "\n",
       "    .dataframe thead th {\n",
       "        text-align: right;\n",
       "    }\n",
       "</style>\n",
       "<table border=\"1\" class=\"dataframe\">\n",
       "  <thead>\n",
       "    <tr style=\"text-align: right;\">\n",
       "      <th></th>\n",
       "      <th>image_id</th>\n",
       "    </tr>\n",
       "  </thead>\n",
       "  <tbody>\n",
       "    <tr>\n",
       "      <th>0</th>\n",
       "      <td>/kaggle/input/mayo-clinic-strip-ai/test/006388...</td>\n",
       "    </tr>\n",
       "    <tr>\n",
       "      <th>1</th>\n",
       "      <td>/kaggle/input/mayo-clinic-strip-ai/test/008e5c...</td>\n",
       "    </tr>\n",
       "    <tr>\n",
       "      <th>2</th>\n",
       "      <td>/kaggle/input/mayo-clinic-strip-ai/test/00c058...</td>\n",
       "    </tr>\n",
       "    <tr>\n",
       "      <th>3</th>\n",
       "      <td>/kaggle/input/mayo-clinic-strip-ai/test/01adc5...</td>\n",
       "    </tr>\n",
       "  </tbody>\n",
       "</table>\n",
       "</div>"
      ],
      "text/plain": [
       "                                            image_id\n",
       "0  /kaggle/input/mayo-clinic-strip-ai/test/006388...\n",
       "1  /kaggle/input/mayo-clinic-strip-ai/test/008e5c...\n",
       "2  /kaggle/input/mayo-clinic-strip-ai/test/00c058...\n",
       "3  /kaggle/input/mayo-clinic-strip-ai/test/01adc5..."
      ]
     },
     "execution_count": 10,
     "metadata": {},
     "output_type": "execute_result"
    }
   ],
   "source": [
    "def make_test_file(x):\n",
    "    return os.path.join(test_imgs_dir,x+'.tif')\n",
    "test = pd.read_csv(test_csv)\n",
    "test_data = pd.DataFrame({'image_id': test.image_id.apply(make_test_file)})\n",
    "test_data.head()"
   ]
  },
  {
   "cell_type": "code",
   "execution_count": 11,
   "id": "bef1ab26",
   "metadata": {
    "execution": {
     "iopub.execute_input": "2023-02-09T15:46:10.280801Z",
     "iopub.status.busy": "2023-02-09T15:46:10.279786Z",
     "iopub.status.idle": "2023-02-09T15:46:28.366694Z",
     "shell.execute_reply": "2023-02-09T15:46:28.365726Z"
    },
    "papermill": {
     "duration": 18.119148,
     "end_time": "2023-02-09T15:46:28.369317",
     "exception": false,
     "start_time": "2023-02-09T15:46:10.250169",
     "status": "completed"
    },
    "tags": []
   },
   "outputs": [
    {
     "name": "stdout",
     "output_type": "stream",
     "text": [
      "0\n",
      "1\n",
      "2\n",
      "3\n"
     ]
    }
   ],
   "source": [
    "preds=[]\n",
    "for x in range(int(test_data.size)):\n",
    "    img_path = test_data.image_id[x]\n",
    "    slide = open_slide(img_path)\n",
    "    tiles=DeepZoomGenerator(slide,tile_size=inp_size,overlap=0,limit_bounds=False)\n",
    "    cols,rows = tiles.level_tiles[tiles.level_count-1]\n",
    "    print(x)\n",
    "    temp_preds=[]\n",
    "    count=0\n",
    "    \n",
    "    for row in range(0,rows,5):\n",
    "        for col in range(0,cols,5):\n",
    "            tile=tiles.get_tile(tiles.level_count-1,(col,row))\n",
    "            tile=tile.convert(\"RGB\")\n",
    "            tile=np.array(tile)\n",
    "            try:\n",
    "                if tile.mean()<180 and tile.std()>50:                    \n",
    "                    tile = np.reshape(tile, [1,inp_size, inp_size, 3])\n",
    "                    p=[i.predict(tile/255) for i in models]\n",
    "                    t_p = sum(p)/len(p)                    \n",
    "                    temp_preds.append(t_p)\n",
    "                    count+=1\n",
    "                    if count>Num_tiles_to_consider_for_prediction:break\n",
    "            except :\n",
    "                pass        \n",
    "            if count>Num_tiles_to_consider_for_prediction:break\n",
    "    if len(temp_preds) > 0:\n",
    "        preds.append(sum(temp_preds)/len(temp_preds))\n",
    "    else:\n",
    "        preds.append([[0.5,0.5]])\n",
    "    del slide\n",
    "    del tiles\n",
    "    gc.collect()"
   ]
  },
  {
   "cell_type": "code",
   "execution_count": 12,
   "id": "b8929542",
   "metadata": {
    "execution": {
     "iopub.execute_input": "2023-02-09T15:46:28.428565Z",
     "iopub.status.busy": "2023-02-09T15:46:28.428220Z",
     "iopub.status.idle": "2023-02-09T15:46:28.435599Z",
     "shell.execute_reply": "2023-02-09T15:46:28.434624Z"
    },
    "papermill": {
     "duration": 0.039408,
     "end_time": "2023-02-09T15:46:28.437862",
     "exception": false,
     "start_time": "2023-02-09T15:46:28.398454",
     "status": "completed"
    },
    "tags": []
   },
   "outputs": [
    {
     "data": {
      "text/plain": [
       "[array([[0.49939284, 0.50060713]], dtype=float32),\n",
       " array([[0.54945433, 0.45054564]], dtype=float32),\n",
       " array([[0.4477892, 0.5522108]], dtype=float32),\n",
       " array([[0.42307842, 0.57692164]], dtype=float32)]"
      ]
     },
     "execution_count": 12,
     "metadata": {},
     "output_type": "execute_result"
    }
   ],
   "source": [
    "preds"
   ]
  },
  {
   "cell_type": "code",
   "execution_count": 13,
   "id": "59e6989e",
   "metadata": {
    "execution": {
     "iopub.execute_input": "2023-02-09T15:46:28.496783Z",
     "iopub.status.busy": "2023-02-09T15:46:28.496476Z",
     "iopub.status.idle": "2023-02-09T15:46:28.522886Z",
     "shell.execute_reply": "2023-02-09T15:46:28.521861Z"
    },
    "papermill": {
     "duration": 0.058146,
     "end_time": "2023-02-09T15:46:28.525116",
     "exception": false,
     "start_time": "2023-02-09T15:46:28.466970",
     "status": "completed"
    },
    "tags": []
   },
   "outputs": [
    {
     "data": {
      "text/html": [
       "<div>\n",
       "<style scoped>\n",
       "    .dataframe tbody tr th:only-of-type {\n",
       "        vertical-align: middle;\n",
       "    }\n",
       "\n",
       "    .dataframe tbody tr th {\n",
       "        vertical-align: top;\n",
       "    }\n",
       "\n",
       "    .dataframe thead th {\n",
       "        text-align: right;\n",
       "    }\n",
       "</style>\n",
       "<table border=\"1\" class=\"dataframe\">\n",
       "  <thead>\n",
       "    <tr style=\"text-align: right;\">\n",
       "      <th></th>\n",
       "      <th>patient_id</th>\n",
       "      <th>CE</th>\n",
       "      <th>LAA</th>\n",
       "    </tr>\n",
       "  </thead>\n",
       "  <tbody>\n",
       "    <tr>\n",
       "      <th>0</th>\n",
       "      <td>006388</td>\n",
       "      <td>0.499393</td>\n",
       "      <td>0.500607</td>\n",
       "    </tr>\n",
       "    <tr>\n",
       "      <th>1</th>\n",
       "      <td>008e5c</td>\n",
       "      <td>0.549454</td>\n",
       "      <td>0.450546</td>\n",
       "    </tr>\n",
       "    <tr>\n",
       "      <th>2</th>\n",
       "      <td>00c058</td>\n",
       "      <td>0.447789</td>\n",
       "      <td>0.552211</td>\n",
       "    </tr>\n",
       "    <tr>\n",
       "      <th>3</th>\n",
       "      <td>01adc5</td>\n",
       "      <td>0.423078</td>\n",
       "      <td>0.576922</td>\n",
       "    </tr>\n",
       "  </tbody>\n",
       "</table>\n",
       "</div>"
      ],
      "text/plain": [
       "  patient_id        CE       LAA\n",
       "0     006388  0.499393  0.500607\n",
       "1     008e5c  0.549454  0.450546\n",
       "2     00c058  0.447789  0.552211\n",
       "3     01adc5  0.423078  0.576922"
      ]
     },
     "execution_count": 13,
     "metadata": {},
     "output_type": "execute_result"
    }
   ],
   "source": [
    "preds = pd.DataFrame(np.concatenate(preds))\n",
    "submission = pd.read_csv('/kaggle/input/mayo-clinic-strip-ai/sample_submission.csv')\n",
    "submission.CE = preds.iloc[ : , : 1]\n",
    "submission.LAA = preds.iloc[ : , 1: 2]\n",
    "submission = submission.groupby(\"patient_id\").mean()\n",
    "submission = submission[[\"CE\", \"LAA\"]].round(6).reset_index()\n",
    "submission.fillna(0.5)\n",
    "submission"
   ]
  },
  {
   "cell_type": "code",
   "execution_count": 14,
   "id": "a9c435db",
   "metadata": {
    "execution": {
     "iopub.execute_input": "2023-02-09T15:46:28.584021Z",
     "iopub.status.busy": "2023-02-09T15:46:28.583733Z",
     "iopub.status.idle": "2023-02-09T15:46:29.577219Z",
     "shell.execute_reply": "2023-02-09T15:46:29.576043Z"
    },
    "papermill": {
     "duration": 1.025384,
     "end_time": "2023-02-09T15:46:29.579686",
     "exception": false,
     "start_time": "2023-02-09T15:46:28.554302",
     "status": "completed"
    },
    "tags": []
   },
   "outputs": [
    {
     "name": "stdout",
     "output_type": "stream",
     "text": [
      "patient_id,CE,LAA\r\n",
      "006388,0.499393,0.500607\r\n",
      "008e5c,0.549454,0.450546\r\n",
      "00c058,0.447789,0.552211\r\n",
      "01adc5,0.423078,0.576922\r\n"
     ]
    }
   ],
   "source": [
    "submission[[\"patient_id\", \"CE\", \"LAA\"]].to_csv(\"submission.csv\", index=False)\n",
    "!head submission.csv"
   ]
  },
  {
   "cell_type": "code",
   "execution_count": null,
   "id": "b2d0b8c0",
   "metadata": {
    "papermill": {
     "duration": 0.028793,
     "end_time": "2023-02-09T15:46:29.637424",
     "exception": false,
     "start_time": "2023-02-09T15:46:29.608631",
     "status": "completed"
    },
    "tags": []
   },
   "outputs": [],
   "source": []
  }
 ],
 "metadata": {
  "kernelspec": {
   "display_name": "Python 3 (ipykernel)",
   "language": "python",
   "name": "python3"
  },
  "language_info": {
   "codemirror_mode": {
    "name": "ipython",
    "version": 3
   },
   "file_extension": ".py",
   "mimetype": "text/x-python",
   "name": "python",
   "nbconvert_exporter": "python",
   "pygments_lexer": "ipython3",
   "version": "3.10.5"
  },
  "papermill": {
   "default_parameters": {},
   "duration": 1583.023155,
   "end_time": "2023-02-09T15:46:33.201185",
   "environment_variables": {},
   "exception": null,
   "input_path": "__notebook__.ipynb",
   "output_path": "__notebook__.ipynb",
   "parameters": {},
   "start_time": "2023-02-09T15:20:10.178030",
   "version": "2.3.4"
  }
 },
 "nbformat": 4,
 "nbformat_minor": 5
}
