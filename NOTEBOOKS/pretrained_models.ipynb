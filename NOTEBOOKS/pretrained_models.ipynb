{
 "cells": [
  {
   "cell_type": "code",
   "execution_count": 1,
   "id": "43149efd",
   "metadata": {},
   "outputs": [],
   "source": [
    "from PIL import Image\n",
    "import tensorflow as tf\n",
    "import tensorflow.keras.preprocessing as image\n",
    "from sklearn.model_selection import train_test_split\n",
    "\n",
    "from keras.layers import concatenate\n",
    "from keras.layers import Input\n",
    "import tensorflow as tf\n",
    "from tensorflow.keras.optimizers import Adam\n",
    "from tensorflow.keras.preprocessing.image import ImageDataGenerator\n",
    "from tensorflow.keras.layers import Conv2D, MaxPooling2D,GlobalAveragePooling2D, Flatten, Dense, Dropout, BatchNormalization\n",
    "from tensorflow.keras import layers\n",
    "from tensorflow.keras.applications.densenet import DenseNet169\n",
    "from matplotlib import pyplot as plt\n",
    "import pandas as pd\n",
    "import keras\n",
    "inp_size=512"
   ]
  },
  {
   "cell_type": "code",
   "execution_count": 2,
   "id": "a07ba277",
   "metadata": {},
   "outputs": [],
   "source": [
    "import numpy as np\n",
    "import tensorflow as tf\n",
    "from tensorflow import keras\n",
    "from tensorflow.keras.layers import Input, Flatten, GlobalAveragePooling2D, Concatenate, BatchNormalization, Dense, Dropout\n",
    "\n",
    "\n",
    "def create_model():\n",
    "    input_layer = Input(shape = (inp_size, inp_size, 3))\n",
    "    base_1 = keras.applications.EfficientNetB0(weights = 'imagenet', include_top = False, input_shape = (inp_size, inp_size, 3))\n",
    "    base_2 = keras.applications.ResNet152(weights = 'imagenet', include_top = False, input_shape = (inp_size, inp_size, 3))\n",
    "    base_3 = keras.applications.VGG19(weights = 'imagenet', include_top = False, input_shape = (inp_size, inp_size, 3))\n",
    "\n",
    "    for layer in base_1.layers:\n",
    "        layer.trainable =  False\n",
    "    for layer in base_2.layers:\n",
    "        layer.trainable = False\n",
    "    for layer in base_3.layers:\n",
    "        layer.trainable = False\n",
    "\n",
    "    model_1 = base_1(input_layer)\n",
    "    model_1 = GlobalAveragePooling2D()(model_1)\n",
    "    output_1 = Flatten()(model_1)\n",
    "\n",
    "    model_2 = base_2(input_layer)\n",
    "    model_2 = GlobalAveragePooling2D()(model_2)\n",
    "    output_2 = Flatten()(model_2)\n",
    "    \n",
    "    model_3 = base_3(input_layer)\n",
    "    model_3 = GlobalAveragePooling2D()(model_3)\n",
    "    output_3 = Flatten()(model_3)\n",
    "    \n",
    "    \n",
    "    merged = tf.keras.layers.Concatenate()([output_1, output_2,output_3])\n",
    "    x = BatchNormalization()(merged)\n",
    "    x = Dense(128,activation = 'relu')(x)\n",
    "    x = Dense(2,activation='softmax')(x)\n",
    "    stacked_model = tf.keras.models.Model(inputs = input_layer, outputs = x)\n",
    "    return stacked_model\n",
    "\n",
    "# Generate sample images\n",
    "# num_samples = 1000\n",
    "# images = np.random.rand(num_samples, inp_size, inp_size, 3)\n",
    "\n",
    "# # Generate sample labels\n",
    "# labels = np.random.randint(0, 2, size=(num_samples, 2))\n",
    "\n",
    "# # Define the model\n",
    "# model = create_model()\n",
    "\n",
    "# # Compile the model\n",
    "# model.compile(optimizer='adam', loss='categorical_crossentropy', metrics=['accuracy'])\n",
    "\n",
    "# # Fit the model to the sample data\n",
    "# model.fit(images, labels, epochs=10, batch_size=32)"
   ]
  },
  {
   "cell_type": "code",
   "execution_count": 3,
   "id": "8489816c",
   "metadata": {},
   "outputs": [],
   "source": [
    "model = create_model()"
   ]
  },
  {
   "cell_type": "code",
   "execution_count": 29,
   "id": "d5adc0c8",
   "metadata": {},
   "outputs": [
    {
     "name": "stdout",
     "output_type": "stream",
     "text": [
      "Model: \"model_7\"\n",
      "__________________________________________________________________________________________________\n",
      " Layer (type)                   Output Shape         Param #     Connected to                     \n",
      "==================================================================================================\n",
      " input_19 (InputLayer)          [(None, 512, 512, 3  0           []                               \n",
      "                                )]                                                                \n",
      "                                                                                                  \n",
      " efficientnetb0 (Functional)    (None, 16, 16, 1280  4049571     ['input_19[0][0]']               \n",
      "                                )                                                                 \n",
      "                                                                                                  \n",
      " resnet152 (Functional)         (None, 16, 16, 2048  58370944    ['input_19[0][0]']               \n",
      "                                )                                                                 \n",
      "                                                                                                  \n",
      " vgg19 (Functional)             (None, 16, 16, 512)  20024384    ['input_19[0][0]']               \n",
      "                                                                                                  \n",
      " global_average_pooling2d_11 (G  (None, 1280)        0           ['efficientnetb0[0][0]']         \n",
      " lobalAveragePooling2D)                                                                           \n",
      "                                                                                                  \n",
      " global_average_pooling2d_12 (G  (None, 2048)        0           ['resnet152[0][0]']              \n",
      " lobalAveragePooling2D)                                                                           \n",
      "                                                                                                  \n",
      " global_average_pooling2d_13 (G  (None, 512)         0           ['vgg19[0][0]']                  \n",
      " lobalAveragePooling2D)                                                                           \n",
      "                                                                                                  \n",
      " flatten_11 (Flatten)           (None, 1280)         0           ['global_average_pooling2d_11[0][\n",
      "                                                                 0]']                             \n",
      "                                                                                                  \n",
      " flatten_12 (Flatten)           (None, 2048)         0           ['global_average_pooling2d_12[0][\n",
      "                                                                 0]']                             \n",
      "                                                                                                  \n",
      " flatten_13 (Flatten)           (None, 512)          0           ['global_average_pooling2d_13[0][\n",
      "                                                                 0]']                             \n",
      "                                                                                                  \n",
      " concatenate_4 (Concatenate)    (None, 3840)         0           ['flatten_11[0][0]',             \n",
      "                                                                  'flatten_12[0][0]',             \n",
      "                                                                  'flatten_13[0][0]']             \n",
      "                                                                                                  \n",
      " batch_normalization_7 (BatchNo  (None, 3840)        15360       ['concatenate_4[0][0]']          \n",
      " rmalization)                                                                                     \n",
      "                                                                                                  \n",
      " dense_15 (Dense)               (None, 128)          491648      ['batch_normalization_7[0][0]']  \n",
      "                                                                                                  \n",
      " dense_16 (Dense)               (None, 2)            258         ['dense_15[0][0]']               \n",
      "                                                                                                  \n",
      "==================================================================================================\n",
      "Total params: 82,952,165\n",
      "Trainable params: 499,586\n",
      "Non-trainable params: 82,452,579\n",
      "__________________________________________________________________________________________________\n"
     ]
    }
   ],
   "source": [
    "model.summary()"
   ]
  },
  {
   "cell_type": "code",
   "execution_count": 16,
   "id": "6376656a",
   "metadata": {},
   "outputs": [
    {
     "name": "stdout",
     "output_type": "stream",
     "text": [
      "WARNING:tensorflow:Compiled the loaded model, but the compiled metrics have yet to be built. `model.compile_metrics` will be empty until you train or evaluate the model.\n"
     ]
    }
   ],
   "source": [
    "model.save('final_res151_vgg19_stacked.h5')"
   ]
  },
  {
   "cell_type": "code",
   "execution_count": 24,
   "id": "79b76589",
   "metadata": {},
   "outputs": [],
   "source": [
    "import numpy as np\n",
    "import tensorflow as tf\n",
    "from tensorflow import keras\n",
    "from tensorflow.keras.layers import Input, Flatten, GlobalAveragePooling2D, Concatenate, BatchNormalization, Dense, Dropout\n",
    "\n",
    "\n",
    "def create_model():\n",
    "    input_layer = Input(shape = (inp_size, inp_size, 3))\n",
    "    base_1 = keras.applications.EfficientNetB0(weights = 'imagenet', include_top = False, input_shape = (inp_size, inp_size, 3))\n",
    "    for layer in base_1.layers:\n",
    "        layer.trainable =  False\n",
    "    model_1 = base_1(input_layer)\n",
    "    model_1 = GlobalAveragePooling2D()(model_1)\n",
    "    output_1 = Flatten()(model_1)\n",
    "    x = BatchNormalization()(output_1)\n",
    "    x = Dense(128,activation = 'relu')(x)\n",
    "    x = Dense(2,activation='softmax')(x)\n",
    "    stacked_model = tf.keras.models.Model(inputs = input_layer, outputs = x)\n",
    "    return stacked_model\n",
    "\n",
    "# # Generate sample images\n",
    "# num_samples = 1000\n",
    "# images = np.random.rand(num_samples, inp_size, inp_size, 3)\n",
    "\n",
    "# # Generate sample labels\n",
    "# labels = np.random.randint(0, 2, size=(num_samples, 2))\n",
    "\n",
    "# # Define the model\n",
    "# model = create_model()\n",
    "\n",
    "# # Compile the model\n",
    "# model.compile(optimizer='adam', loss='categorical_crossentropy', metrics=['accuracy'])\n",
    "\n",
    "# # Fit the model to the sample data\n",
    "# model.fit(images, labels, epochs=10, batch_size=32)"
   ]
  },
  {
   "cell_type": "code",
   "execution_count": 25,
   "id": "8b4d7ca6",
   "metadata": {},
   "outputs": [
    {
     "name": "stdout",
     "output_type": "stream",
     "text": [
      "Model: \"model_6\"\n",
      "_________________________________________________________________\n",
      " Layer (type)                Output Shape              Param #   \n",
      "=================================================================\n",
      " input_17 (InputLayer)       [(None, 512, 512, 3)]     0         \n",
      "                                                                 \n",
      " efficientnetb0 (Functional)  (None, 16, 16, 1280)     4049571   \n",
      "                                                                 \n",
      " global_average_pooling2d_10  (None, 1280)             0         \n",
      "  (GlobalAveragePooling2D)                                       \n",
      "                                                                 \n",
      " flatten_10 (Flatten)        (None, 1280)              0         \n",
      "                                                                 \n",
      " batch_normalization_6 (Batc  (None, 1280)             5120      \n",
      " hNormalization)                                                 \n",
      "                                                                 \n",
      " dense_13 (Dense)            (None, 128)               163968    \n",
      "                                                                 \n",
      " dense_14 (Dense)            (None, 2)                 258       \n",
      "                                                                 \n",
      "=================================================================\n",
      "Total params: 4,218,917\n",
      "Trainable params: 166,786\n",
      "Non-trainable params: 4,052,131\n",
      "_________________________________________________________________\n"
     ]
    }
   ],
   "source": [
    "m = create_model()\n",
    "m.summary()"
   ]
  },
  {
   "cell_type": "code",
   "execution_count": 26,
   "id": "de9bb3f4",
   "metadata": {},
   "outputs": [
    {
     "name": "stdout",
     "output_type": "stream",
     "text": [
      "WARNING:tensorflow:Compiled the loaded model, but the compiled metrics have yet to be built. `model.compile_metrics` will be empty until you train or evaluate the model.\n"
     ]
    }
   ],
   "source": [
    "m.save(\"final_effb0.h5\")"
   ]
  },
  {
   "cell_type": "code",
   "execution_count": null,
   "id": "d6f1c0f6",
   "metadata": {},
   "outputs": [],
   "source": []
  }
 ],
 "metadata": {
  "kernelspec": {
   "display_name": "Python 3 (ipykernel)",
   "language": "python",
   "name": "python3"
  },
  "language_info": {
   "codemirror_mode": {
    "name": "ipython",
    "version": 3
   },
   "file_extension": ".py",
   "mimetype": "text/x-python",
   "name": "python",
   "nbconvert_exporter": "python",
   "pygments_lexer": "ipython3",
   "version": "3.10.5"
  }
 },
 "nbformat": 4,
 "nbformat_minor": 5
}
